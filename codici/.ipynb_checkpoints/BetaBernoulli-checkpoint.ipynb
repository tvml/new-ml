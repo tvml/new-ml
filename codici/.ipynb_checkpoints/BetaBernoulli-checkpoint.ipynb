{
 "cells": [
  {
   "cell_type": "markdown",
   "metadata": {},
   "source": [
    "Inferenza per via analitica del parametro $p$ di una distribuzione di Bernoulli."
   ]
  },
  {
   "cell_type": "code",
   "execution_count": 1,
   "metadata": {},
   "outputs": [],
   "source": [
    "%matplotlib inline\n",
    "import sys\n",
    "import numpy as np\n",
    "import scipy.stats as st\n",
    "from scipy.optimize import fmin\n",
    "from scipy.special import beta as beta_func\n",
    "import matplotlib.pyplot as plt"
   ]
  },
  {
   "cell_type": "markdown",
   "metadata": {},
   "source": [
    "Configurazione per grafica"
   ]
  },
  {
   "cell_type": "code",
   "execution_count": 2,
   "metadata": {},
   "outputs": [],
   "source": [
    "plt.style.use('fivethirtyeight')\n",
    "\n",
    "plt.rcParams['font.family'] = 'sans-serif'\n",
    "plt.rcParams['font.serif'] = 'Ubuntu'\n",
    "plt.rcParams['font.monospace'] = 'Ubuntu Mono'\n",
    "plt.rcParams['font.size'] = 10\n",
    "plt.rcParams['axes.labelsize'] = 10\n",
    "plt.rcParams['axes.labelweight'] = 'bold'\n",
    "plt.rcParams['axes.titlesize'] = 10\n",
    "plt.rcParams['xtick.labelsize'] = 8\n",
    "plt.rcParams['ytick.labelsize'] = 8\n",
    "plt.rcParams['legend.fontsize'] = 10\n",
    "plt.rcParams['figure.titlesize'] = 12\n",
    "plt.rcParams['image.cmap'] = 'gray'\n",
    "plt.rcParams['image.interpolation'] = 'none'\n",
    "plt.rcParams['lines.linewidth'] = 2"
   ]
  },
  {
   "cell_type": "markdown",
   "metadata": {},
   "source": [
    "Funzione che determina l'intervallo contenente probabilità credMass per la distribuzione data"
   ]
  },
  {
   "cell_type": "code",
   "execution_count": 3,
   "metadata": {},
   "outputs": [],
   "source": [
    "def HDIofICDF(dist_name, credMass=0.95, **args):\n",
    "    # freeze distribution with given arguments\n",
    "    distri = dist_name(**args)\n",
    "    # initial guess for HDIlowTailPr\n",
    "    incredMass =  1.0 - credMass\n",
    "\n",
    "    def intervalWidth(lowTailPr):\n",
    "        return distri.ppf(credMass + lowTailPr) - distri.ppf(lowTailPr)\n",
    "\n",
    "    # find lowTailPr that minimizes intervalWidth\n",
    "    HDIlowTailPr = fmin(intervalWidth, incredMass, ftol=1e-8, disp=False)[0]\n",
    "    # return interval as array([low, high])\n",
    "    return distri.ppf([HDIlowTailPr, credMass + HDIlowTailPr])"
   ]
  },
  {
   "cell_type": "markdown",
   "metadata": {},
   "source": [
    "La distribuzione prior è una Beta con parametri $\\alpha$ e $\\beta$"
   ]
  },
  {
   "cell_type": "code",
   "execution_count": 4,
   "metadata": {},
   "outputs": [],
   "source": [
    "alpha = 5\n",
    "beta = 10"
   ]
  },
  {
   "cell_type": "markdown",
   "metadata": {},
   "source": [
    "Genera sequenza di $n$ osservazioni $0/1$ mediante lanci con probabilità di $1$ pari a $p$"
   ]
  },
  {
   "cell_type": "code",
   "execution_count": 5,
   "metadata": {},
   "outputs": [],
   "source": [
    "# numero osservazioni\n",
    "n = 1000\n",
    "# probabilità di 1\n",
    "p = .65\n",
    "np.random.seed()\n",
    "data = np.random.choice(a=(1, 0), p=(p, 1-p), size=n, replace=True)"
   ]
  },
  {
   "cell_type": "markdown",
   "metadata": {},
   "source": [
    "Conta numero di osservazioni totali e numero di osservazioni $1$ "
   ]
  },
  {
   "cell_type": "code",
   "execution_count": 6,
   "metadata": {},
   "outputs": [],
   "source": [
    "n = len(data)\n",
    "z = sum(data[data == 1])"
   ]
  },
  {
   "cell_type": "markdown",
   "metadata": {},
   "source": [
    "La distribuzione a posteriori è una beta anch'essa. Calcola i parametri relativi"
   ]
  },
  {
   "cell_type": "code",
   "execution_count": 7,
   "metadata": {},
   "outputs": [],
   "source": [
    "alpha_p = alpha+z\n",
    "beta_p = beta+n-z"
   ]
  },
  {
   "cell_type": "markdown",
   "metadata": {},
   "source": [
    "Calcola l'evidenza dell'insieme di osservazioni (probabilità di occorrenza, dato il modello)"
   ]
  },
  {
   "cell_type": "code",
   "execution_count": 8,
   "metadata": {},
   "outputs": [],
   "source": [
    "evidence = beta_func(alpha_p, beta_p)/beta_func(alpha, beta)"
   ]
  },
  {
   "cell_type": "markdown",
   "metadata": {},
   "source": [
    "Definiamo una griglia di valori per theta"
   ]
  },
  {
   "cell_type": "code",
   "execution_count": 9,
   "metadata": {},
   "outputs": [],
   "source": [
    "bin_width = 0.005\n",
    "theta = np.arange(bin_width/2, 1-(bin_width/2)+bin_width, bin_width)"
   ]
  },
  {
   "cell_type": "markdown",
   "metadata": {},
   "source": [
    "Calcola prior, likelihood e posterior per ogni valore della griglia"
   ]
  },
  {
   "cell_type": "code",
   "execution_count": 10,
   "metadata": {},
   "outputs": [],
   "source": [
    "prior_theta = st.beta.pdf(theta, alpha, beta)\n",
    "likelihood_theta = theta**z * (1-theta)**(n-z)\n",
    "posterior_theta = st.beta.pdf(theta, alpha_p, beta_p)"
   ]
  },
  {
   "cell_type": "markdown",
   "metadata": {},
   "source": [
    "Calcola intervallo contenente il $95\\%$ di probabilità della posterior"
   ]
  },
  {
   "cell_type": "code",
   "execution_count": 11,
   "metadata": {},
   "outputs": [],
   "source": [
    " intervals = HDIofICDF(st.beta, .95, a=alpha_p, b=beta_p)"
   ]
  },
  {
   "cell_type": "markdown",
   "metadata": {},
   "source": [
    "Calcola il massimo (approssimato) della distribuzione a posteriori"
   ]
  },
  {
   "cell_type": "code",
   "execution_count": 12,
   "metadata": {},
   "outputs": [],
   "source": [
    "MAP = theta[np.argmax(posterior_theta)]"
   ]
  },
  {
   "cell_type": "markdown",
   "metadata": {},
   "source": [
    "Plot delle distribuzioni"
   ]
  },
  {
   "cell_type": "code",
   "execution_count": 13,
   "metadata": {},
   "outputs": [
    {
     "data": {
      "text/plain": [
       "<matplotlib.collections.PolyCollection at 0x110e4ce90>"
      ]
     },
     "execution_count": 13,
     "metadata": {},
     "output_type": "execute_result"
    },
    {
     "data": {
      "image/png": "[encoded data removed]",
      "text/plain": [
       "<matplotlib.figure.Figure at 0x104424c10>"
      ]
     },
     "metadata": {},
     "output_type": "display_data"
    }
   ],
   "source": [
    "fig, ax = plt.subplots(figsize=(12, 12))\n",
    "plt.subplots_adjust(hspace=0.7)\n",
    "# Plot del prior.\n",
    "locx = 0.05\n",
    "plt.subplot(3, 1, 1)\n",
    "plt.plot(theta, prior_theta)\n",
    "plt.xlim(0, 1)\n",
    "plt.ylim(0, np.max(prior_theta)*1.2)\n",
    "plt.xlabel(r'$\\theta$')\n",
    "plt.ylabel(r'$P(\\theta)$')\n",
    "plt.title('Prior')\n",
    "plt.text(locx, np.max(prior_theta)/2, r'beta($\\theta$;{0:3d}, {1:3d})'.format(alpha, beta))\n",
    "    \n",
    "# Plot della likelihood\n",
    "plt.subplot(3, 1, 2)\n",
    "plt.plot(theta, likelihood_theta)\n",
    "plt.xlim(0, 1)\n",
    "plt.ylim(0, np.max( likelihood_theta)*1.2)\n",
    "plt.xlabel(r'$\\theta$')\n",
    "plt.ylabel(r'$P(data|\\theta)$')\n",
    "plt.title('Likelihood')\n",
    "plt.text(locx, np.max( likelihood_theta)/2, 'Data: #1 ={0:3d}, #0 ={1:3d}'.format(z, n-z))\n",
    "    \n",
    "# Plot della posterior\n",
    "plt.subplot(3, 1, 3)\n",
    "plt.plot(theta, posterior_theta)\n",
    "plt.xlim(0, 1)\n",
    "plt.ylim(0, np.max(posterior_theta)*1.2)\n",
    "plt.xlabel(r'$\\theta$')\n",
    "plt.ylabel(r'$P(\\theta|D)$')\n",
    "plt.title('Posterior')\n",
    "locy = np.linspace(0, np.max(posterior_theta), 5)\n",
    "plt.text(locx, locy[1], r'beta($\\theta$;{0:3d}, {1:3d})'.format(alpha_p, beta_p))\n",
    "plt.text(locx, locy[2], 'P(D) = {0:.5f}'.format(evidence))\n",
    "plt.text(locx, locy[0], 'MAP = {0:.5f}'.format(MAP))\n",
    "    \n",
    "# Plot dell'ntervallo al 95%\n",
    "plt.text(locx, locy[3], 'Intervals = {0:.3f} - {1:.3f}'.format(intervals[0], intervals[1]))\n",
    "plt.fill_between(theta, 0, posterior_theta, where=np.logical_and(theta > intervals[0],\n",
    "                theta < intervals[1]), color='C0', alpha=0.3)"
   ]
  },
  {
   "cell_type": "code",
   "execution_count": 111,
   "metadata": {},
   "outputs": [],
   "source": []
  },
  {
   "cell_type": "code",
   "execution_count": null,
   "metadata": {},
   "outputs": [],
   "source": []
  },
  {
   "cell_type": "code",
   "execution_count": null,
   "metadata": {},
   "outputs": [],
   "source": []
  }
 ],
 "metadata": {
  "anaconda-cloud": {},
  "kernelspec": {
   "display_name": "Python [conda root]",
   "language": "python",
   "name": "conda-root-py"
  },
  "language_info": {
   "codemirror_mode": {
    "name": "ipython",
    "version": 2
   },
   "file_extension": ".py",
   "mimetype": "text/x-python",
   "name": "python",
   "nbconvert_exporter": "python",
   "pygments_lexer": "ipython2",
   "version": "2.7.11"
  }
 },
 "nbformat": 4,
 "nbformat_minor": 2
}
